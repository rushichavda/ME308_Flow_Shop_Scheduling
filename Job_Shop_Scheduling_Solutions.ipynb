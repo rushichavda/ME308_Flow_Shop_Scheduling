{
  "nbformat": 4,
  "nbformat_minor": 0,
  "metadata": {
    "colab": {
      "provenance": []
    },
    "kernelspec": {
      "name": "python3",
      "display_name": "Python 3"
    },
    "language_info": {
      "name": "python"
    }
  },
  "cells": [
    {
      "cell_type": "markdown",
      "source": [
        "# Solution of scheduling problem using State-of-the-art Google ortools libraries"
      ],
      "metadata": {
        "id": "rYMioE9LsiJC"
      }
    },
    {
      "cell_type": "code",
      "source": [
        "!pip install ortools"
      ],
      "metadata": {
        "colab": {
          "base_uri": "https://localhost:8080/"
        },
        "id": "semASLVxOzxO",
        "outputId": "415a9fdc-d6a1-4e55-8a2e-07c4329fa4de"
      },
      "execution_count": 18,
      "outputs": [
        {
          "output_type": "stream",
          "name": "stdout",
          "text": [
            "Looking in indexes: https://pypi.org/simple, https://us-python.pkg.dev/colab-wheels/public/simple/\n",
            "Collecting ortools\n",
            "  Downloading ortools-9.6.2534-cp310-cp310-manylinux_2_17_x86_64.manylinux2014_x86_64.whl (16.4 MB)\n",
            "\u001b[2K     \u001b[90m━━━━━━━━━━━━━━━━━━━━━━━━━━━━━━━━━━━━━━━━\u001b[0m \u001b[32m16.4/16.4 MB\u001b[0m \u001b[31m59.0 MB/s\u001b[0m eta \u001b[36m0:00:00\u001b[0m\n",
            "\u001b[?25hCollecting protobuf>=4.21.12\n",
            "  Downloading protobuf-4.22.3-cp37-abi3-manylinux2014_x86_64.whl (302 kB)\n",
            "\u001b[2K     \u001b[90m━━━━━━━━━━━━━━━━━━━━━━━━━━━━━━━━━━━━━━\u001b[0m \u001b[32m302.4/302.4 kB\u001b[0m \u001b[31m24.7 MB/s\u001b[0m eta \u001b[36m0:00:00\u001b[0m\n",
            "\u001b[?25hRequirement already satisfied: numpy>=1.13.3 in /usr/local/lib/python3.10/dist-packages (from ortools) (1.22.4)\n",
            "Requirement already satisfied: absl-py>=0.13 in /usr/local/lib/python3.10/dist-packages (from ortools) (1.4.0)\n",
            "Requirement already satisfied: scipy>=1.10.0 in /usr/local/lib/python3.10/dist-packages (from ortools) (1.10.1)\n",
            "Installing collected packages: protobuf, ortools\n",
            "  Attempting uninstall: protobuf\n",
            "    Found existing installation: protobuf 3.20.3\n",
            "    Uninstalling protobuf-3.20.3:\n",
            "      Successfully uninstalled protobuf-3.20.3\n",
            "Successfully installed ortools-9.6.2534 protobuf-4.22.3\n"
          ]
        }
      ]
    },
    {
      "cell_type": "code",
      "source": [
        "!pip install -U pip"
      ],
      "metadata": {
        "colab": {
          "base_uri": "https://localhost:8080/"
        },
        "id": "j4N6ai2-7ZvG",
        "outputId": "bab23535-ddfe-44b5-9f6f-56a218d392ac"
      },
      "execution_count": 19,
      "outputs": [
        {
          "output_type": "stream",
          "name": "stdout",
          "text": [
            "Looking in indexes: https://pypi.org/simple, https://us-python.pkg.dev/colab-wheels/public/simple/\n",
            "Requirement already satisfied: pip in /usr/local/lib/python3.10/dist-packages (23.0.1)\n",
            "Collecting pip\n",
            "  Downloading pip-23.1.2-py3-none-any.whl (2.1 MB)\n",
            "\u001b[2K     \u001b[90m━━━━━━━━━━━━━━━━━━━━━━━━━━━━━━━━━━━━━━━━\u001b[0m \u001b[32m2.1/2.1 MB\u001b[0m \u001b[31m23.9 MB/s\u001b[0m eta \u001b[36m0:00:00\u001b[0m\n",
            "\u001b[?25hInstalling collected packages: pip\n",
            "  Attempting uninstall: pip\n",
            "    Found existing installation: pip 23.0.1\n",
            "    Uninstalling pip-23.0.1:\n",
            "      Successfully uninstalled pip-23.0.1\n",
            "Successfully installed pip-23.1.2\n"
          ]
        }
      ]
    },
    {
      "cell_type": "code",
      "execution_count": 20,
      "metadata": {
        "id": "85WPeenyOdTE"
      },
      "outputs": [],
      "source": [
        "import collections\n",
        "from ortools.sat.python import cp_model"
      ]
    },
    {
      "cell_type": "code",
      "source": [
        "jobs_data = [[(0, 3), (1, 1), (2, 4), (3, 12)],\n",
        " [(0, 8), (1, 0), (2, 5), (3, 15)],\n",
        " [(0, 11), (1, 3), (2, 8), (3, 10)],\n",
        " [(0, 4), (1, 7), (2, 3), (3, 8)],\n",
        " [(0, 5), (1, 5), (2, 1), (3, 10)],\n",
        " [(0, 10), (1, 2), (2, 0), (3, 13)],\n",
        " [(0, 2), (1, 5), (2, 6), (3, 9)]]\n",
        "\n",
        "machines_count = 1 + max(task[0] for job in jobs_data for task in job)\n",
        "all_machines = range(machines_count)\n",
        "# Computes horizon dynamically as the sum of all durations.  in short max possible\n",
        "horizon = sum(task[1] for job in jobs_data for task in job)"
      ],
      "metadata": {
        "id": "H4TQ7amUOkoj"
      },
      "execution_count": 21,
      "outputs": []
    },
    {
      "cell_type": "markdown",
      "source": [
        "#### `CpModel`: Methods for creating models, including variables and constraints.\n",
        "\n",
        "#### Here the model to solve the problem is declared in cell below"
      ],
      "metadata": {
        "id": "7WF536pURnJ8"
      }
    },
    {
      "cell_type": "code",
      "source": [
        "model = cp_model.CpModel()"
      ],
      "metadata": {
        "id": "2T8WU6z0PNKc"
      },
      "execution_count": 22,
      "outputs": []
    },
    {
      "cell_type": "markdown",
      "source": [
        "#### `collections.namedtuple` create tuple like object with name of object\n",
        "#### `collections.defaultdict` create a special kind of dictionary, easy to query and update.\n",
        "#### `model.NewIntVar` to define our variable \n",
        "#### `model.NewIntervalVar` to define an varible with interval(size) such that start + size = end\n",
        "\n",
        "\n",
        "\n",
        "\n"
      ],
      "metadata": {
        "id": "ULcWg81flWRe"
      }
    },
    {
      "cell_type": "code",
      "source": [
        "# Named tuple to store information about created variables.\n",
        "task_type = collections.namedtuple('task_type', 'start end interval')\n",
        "# Named tuple to manipulate solution information.\n",
        "assigned_task_type = collections.namedtuple('assigned_task_type',\n",
        "                                            'start job index duration')\n",
        "\n",
        "# Creates job intervals and add to the corresponding machine lists.\n",
        "all_tasks = {}\n",
        "machine_to_intervals = collections.defaultdict(list)\n",
        "\n",
        "for job_id, job in enumerate(jobs_data):\n",
        "    for task_id, task in enumerate(job):\n",
        "        machine = task[0]\n",
        "        duration = task[1]\n",
        "        suffix = '_%i_%i' % (job_id, task_id)\n",
        "        #Creating variables with lb & ub\n",
        "        start_var = model.NewIntVar(0, horizon, 'start' + suffix)\n",
        "        end_var = model.NewIntVar(0, horizon, 'end' + suffix)\n",
        "        #this NewINtervalVar - An interval variable is a constraint, that is itself used \n",
        "        #in other constraints like NoOverlap. Internally, it ensures that start + size == end.\n",
        "        interval_var = model.NewIntervalVar(start_var, duration, end_var,\n",
        "                                            'interval' + suffix)\n",
        "        all_tasks[job_id, task_id] = task_type(start=start_var,\n",
        "                                               end=end_var,\n",
        "                                               interval=interval_var)\n",
        "        machine_to_intervals[machine].append(interval_var)"
      ],
      "metadata": {
        "id": "otIMTrOGPezt"
      },
      "execution_count": 23,
      "outputs": []
    },
    {
      "cell_type": "code",
      "source": [
        "sorted(machine_to_intervals.items())"
      ],
      "metadata": {
        "colab": {
          "base_uri": "https://localhost:8080/"
        },
        "id": "-rjqAREcPfxr",
        "outputId": "efe7700e-f2c9-493c-8a10-e6229689a06e"
      },
      "execution_count": 24,
      "outputs": [
        {
          "output_type": "execute_result",
          "data": {
            "text/plain": [
              "[(0,\n",
              "  [interval_0_0(start = start_0_0, size = 3, end = end_0_0),\n",
              "   interval_1_0(start = start_1_0, size = 8, end = end_1_0),\n",
              "   interval_2_0(start = start_2_0, size = 11, end = end_2_0),\n",
              "   interval_3_0(start = start_3_0, size = 4, end = end_3_0),\n",
              "   interval_4_0(start = start_4_0, size = 5, end = end_4_0),\n",
              "   interval_5_0(start = start_5_0, size = 10, end = end_5_0),\n",
              "   interval_6_0(start = start_6_0, size = 2, end = end_6_0)]),\n",
              " (1,\n",
              "  [interval_0_1(start = start_0_1, size = 1, end = end_0_1),\n",
              "   interval_1_1(start = start_1_1, size = 0, end = end_1_1),\n",
              "   interval_2_1(start = start_2_1, size = 3, end = end_2_1),\n",
              "   interval_3_1(start = start_3_1, size = 7, end = end_3_1),\n",
              "   interval_4_1(start = start_4_1, size = 5, end = end_4_1),\n",
              "   interval_5_1(start = start_5_1, size = 2, end = end_5_1),\n",
              "   interval_6_1(start = start_6_1, size = 5, end = end_6_1)]),\n",
              " (2,\n",
              "  [interval_0_2(start = start_0_2, size = 4, end = end_0_2),\n",
              "   interval_1_2(start = start_1_2, size = 5, end = end_1_2),\n",
              "   interval_2_2(start = start_2_2, size = 8, end = end_2_2),\n",
              "   interval_3_2(start = start_3_2, size = 3, end = end_3_2),\n",
              "   interval_4_2(start = start_4_2, size = 1, end = end_4_2),\n",
              "   interval_5_2(start = start_5_2, size = 0, end = end_5_2),\n",
              "   interval_6_2(start = start_6_2, size = 6, end = end_6_2)]),\n",
              " (3,\n",
              "  [interval_0_3(start = start_0_3, size = 12, end = end_0_3),\n",
              "   interval_1_3(start = start_1_3, size = 15, end = end_1_3),\n",
              "   interval_2_3(start = start_2_3, size = 10, end = end_2_3),\n",
              "   interval_3_3(start = start_3_3, size = 8, end = end_3_3),\n",
              "   interval_4_3(start = start_4_3, size = 10, end = end_4_3),\n",
              "   interval_5_3(start = start_5_3, size = 13, end = end_5_3),\n",
              "   interval_6_3(start = start_6_3, size = 9, end = end_6_3)])]"
            ]
          },
          "metadata": {},
          "execution_count": 24
        }
      ]
    },
    {
      "cell_type": "code",
      "source": [
        "all_tasks"
      ],
      "metadata": {
        "colab": {
          "base_uri": "https://localhost:8080/"
        },
        "id": "82uIN_F4ZkmG",
        "outputId": "aa92c134-4fd2-4e89-ab90-90d2ee7a60ca"
      },
      "execution_count": 25,
      "outputs": [
        {
          "output_type": "execute_result",
          "data": {
            "text/plain": [
              "{(0,\n",
              "  0): task_type(start=start_0_0(0..170), end=end_0_0(0..170), interval=interval_0_0(start = start_0_0, size = 3, end = end_0_0)),\n",
              " (0,\n",
              "  1): task_type(start=start_0_1(0..170), end=end_0_1(0..170), interval=interval_0_1(start = start_0_1, size = 1, end = end_0_1)),\n",
              " (0,\n",
              "  2): task_type(start=start_0_2(0..170), end=end_0_2(0..170), interval=interval_0_2(start = start_0_2, size = 4, end = end_0_2)),\n",
              " (0,\n",
              "  3): task_type(start=start_0_3(0..170), end=end_0_3(0..170), interval=interval_0_3(start = start_0_3, size = 12, end = end_0_3)),\n",
              " (1,\n",
              "  0): task_type(start=start_1_0(0..170), end=end_1_0(0..170), interval=interval_1_0(start = start_1_0, size = 8, end = end_1_0)),\n",
              " (1,\n",
              "  1): task_type(start=start_1_1(0..170), end=end_1_1(0..170), interval=interval_1_1(start = start_1_1, size = 0, end = end_1_1)),\n",
              " (1,\n",
              "  2): task_type(start=start_1_2(0..170), end=end_1_2(0..170), interval=interval_1_2(start = start_1_2, size = 5, end = end_1_2)),\n",
              " (1,\n",
              "  3): task_type(start=start_1_3(0..170), end=end_1_3(0..170), interval=interval_1_3(start = start_1_3, size = 15, end = end_1_3)),\n",
              " (2,\n",
              "  0): task_type(start=start_2_0(0..170), end=end_2_0(0..170), interval=interval_2_0(start = start_2_0, size = 11, end = end_2_0)),\n",
              " (2,\n",
              "  1): task_type(start=start_2_1(0..170), end=end_2_1(0..170), interval=interval_2_1(start = start_2_1, size = 3, end = end_2_1)),\n",
              " (2,\n",
              "  2): task_type(start=start_2_2(0..170), end=end_2_2(0..170), interval=interval_2_2(start = start_2_2, size = 8, end = end_2_2)),\n",
              " (2,\n",
              "  3): task_type(start=start_2_3(0..170), end=end_2_3(0..170), interval=interval_2_3(start = start_2_3, size = 10, end = end_2_3)),\n",
              " (3,\n",
              "  0): task_type(start=start_3_0(0..170), end=end_3_0(0..170), interval=interval_3_0(start = start_3_0, size = 4, end = end_3_0)),\n",
              " (3,\n",
              "  1): task_type(start=start_3_1(0..170), end=end_3_1(0..170), interval=interval_3_1(start = start_3_1, size = 7, end = end_3_1)),\n",
              " (3,\n",
              "  2): task_type(start=start_3_2(0..170), end=end_3_2(0..170), interval=interval_3_2(start = start_3_2, size = 3, end = end_3_2)),\n",
              " (3,\n",
              "  3): task_type(start=start_3_3(0..170), end=end_3_3(0..170), interval=interval_3_3(start = start_3_3, size = 8, end = end_3_3)),\n",
              " (4,\n",
              "  0): task_type(start=start_4_0(0..170), end=end_4_0(0..170), interval=interval_4_0(start = start_4_0, size = 5, end = end_4_0)),\n",
              " (4,\n",
              "  1): task_type(start=start_4_1(0..170), end=end_4_1(0..170), interval=interval_4_1(start = start_4_1, size = 5, end = end_4_1)),\n",
              " (4,\n",
              "  2): task_type(start=start_4_2(0..170), end=end_4_2(0..170), interval=interval_4_2(start = start_4_2, size = 1, end = end_4_2)),\n",
              " (4,\n",
              "  3): task_type(start=start_4_3(0..170), end=end_4_3(0..170), interval=interval_4_3(start = start_4_3, size = 10, end = end_4_3)),\n",
              " (5,\n",
              "  0): task_type(start=start_5_0(0..170), end=end_5_0(0..170), interval=interval_5_0(start = start_5_0, size = 10, end = end_5_0)),\n",
              " (5,\n",
              "  1): task_type(start=start_5_1(0..170), end=end_5_1(0..170), interval=interval_5_1(start = start_5_1, size = 2, end = end_5_1)),\n",
              " (5,\n",
              "  2): task_type(start=start_5_2(0..170), end=end_5_2(0..170), interval=interval_5_2(start = start_5_2, size = 0, end = end_5_2)),\n",
              " (5,\n",
              "  3): task_type(start=start_5_3(0..170), end=end_5_3(0..170), interval=interval_5_3(start = start_5_3, size = 13, end = end_5_3)),\n",
              " (6,\n",
              "  0): task_type(start=start_6_0(0..170), end=end_6_0(0..170), interval=interval_6_0(start = start_6_0, size = 2, end = end_6_0)),\n",
              " (6,\n",
              "  1): task_type(start=start_6_1(0..170), end=end_6_1(0..170), interval=interval_6_1(start = start_6_1, size = 5, end = end_6_1)),\n",
              " (6,\n",
              "  2): task_type(start=start_6_2(0..170), end=end_6_2(0..170), interval=interval_6_2(start = start_6_2, size = 6, end = end_6_2)),\n",
              " (6,\n",
              "  3): task_type(start=start_6_3(0..170), end=end_6_3(0..170), interval=interval_6_3(start = start_6_3, size = 9, end = end_6_3))}"
            ]
          },
          "metadata": {},
          "execution_count": 25
        }
      ]
    },
    {
      "cell_type": "markdown",
      "source": [
        "#### `model.AddNoOverlap` to set no overlap constain\n",
        "#### `model.AddNoOverlap` to set constomized constain"
      ],
      "metadata": {
        "id": "ToGuUCxkm6ge"
      }
    },
    {
      "cell_type": "code",
      "source": [
        "# Create and add disjunctive constraints.\n",
        "# AddNoOverlap -- Return type: Constraint\n",
        "for machine in all_machines:\n",
        "    model.AddNoOverlap(machine_to_intervals[machine])   # constain : no overlap \n",
        "\n",
        "# Precedences inside a job.\n",
        "for job_id, job in enumerate(jobs_data):\n",
        "    for task_id in range(len(job) - 1):\n",
        "        model.Add(all_tasks[job_id, task_id +    #  constain : the end time of a task to occur before the start time of the next task in the job.\n",
        "                            1].start >= all_tasks[job_id, task_id].end)\n"
      ],
      "metadata": {
        "id": "umP5iWmhTllH"
      },
      "execution_count": 26,
      "outputs": []
    },
    {
      "cell_type": "markdown",
      "source": [
        "#### `model.AddMaxEquality` the varible in this will take maximum value from the list of values provided \n",
        "#### `model.Minimize` minimizes the given variable (here obj_var) "
      ],
      "metadata": {
        "id": "9t4wtO4hnVvm"
      }
    },
    {
      "cell_type": "code",
      "source": [
        "# Makespan objective.\n",
        "obj_var = model.NewIntVar(0, horizon, 'makespan')\n",
        "model.AddMaxEquality(obj_var, [ all_tasks[job_id, len(job) - 1].end        #creates a variable obj_var whose value is the maximum \n",
        "                                for job_id, job in enumerate(jobs_data)])  #of the end times for all jobs \n",
        "                             \n",
        "model.Minimize(obj_var)"
      ],
      "metadata": {
        "id": "dq0EnDtLXyRS"
      },
      "execution_count": 27,
      "outputs": []
    },
    {
      "cell_type": "markdown",
      "source": [
        "#### `.CpSolver` to create an object which will execute solving and optimizing task of our model.\n",
        "#### `.Solve` it will solve the defined model, while taking care of all the constrains"
      ],
      "metadata": {
        "id": "Tpo_FZhuoAn4"
      }
    },
    {
      "cell_type": "code",
      "source": [
        "solver = cp_model.CpSolver()\n",
        "status = solver.Solve(model)"
      ],
      "metadata": {
        "id": "wrGhQQO0csku"
      },
      "execution_count": 28,
      "outputs": []
    },
    {
      "cell_type": "code",
      "source": [
        "if status == cp_model.OPTIMAL or status == cp_model.FEASIBLE:   \n",
        "    print('Solution:')\n",
        "    # Create one list of assigned tasks per machine.\n",
        "    assigned_jobs = collections.defaultdict(list)\n",
        "    for job_id, job in enumerate(jobs_data):\n",
        "        for task_id, task in enumerate(job):\n",
        "            machine = task[0]\n",
        "            assigned_jobs[machine].append(\n",
        "                assigned_task_type(start=solver.Value(\n",
        "                    all_tasks[job_id, task_id].start),\n",
        "                                   job=job_id,\n",
        "                                   index=task_id,\n",
        "                                   duration=task[1]))\n",
        "\n",
        "    # Create per machine output lines.\n",
        "    output = ''\n",
        "    for machine in all_machines:\n",
        "        # Sort by starting time.\n",
        "        assigned_jobs[machine].sort()\n",
        "        sol_line_tasks = 'Machine ' + str(machine) + ': '\n",
        "        sol_line = '           '\n",
        "\n",
        "        for assigned_task in assigned_jobs[machine]:\n",
        "            name = 'job_%i_task_%i' % (assigned_task.job,\n",
        "                                       assigned_task.index)\n",
        "            # Add spaces to output to align columns.\n",
        "            sol_line_tasks += '%-15s' % name\n",
        "\n",
        "            start = assigned_task.start\n",
        "            duration = assigned_task.duration\n",
        "            sol_tmp = '[%i,%i]' % (start, start + duration)\n",
        "            # Add spaces to output to align columns.\n",
        "            sol_line += '%-15s' % sol_tmp\n",
        "\n",
        "        sol_line += '\\n'\n",
        "        sol_line_tasks += '\\n'\n",
        "        output += sol_line_tasks\n",
        "        output += sol_line\n",
        "\n",
        "    # Finally print the solution found.\n",
        "    print(f'Optimal Schedule Length: {solver.ObjectiveValue()}')\n",
        "    print(output)\n",
        "else:\n",
        "    print('No solution found.')"
      ],
      "metadata": {
        "colab": {
          "base_uri": "https://localhost:8080/"
        },
        "id": "5M9lq_S-dAQh",
        "outputId": "53b13ad3-4c26-4de6-d944-807f4010648a"
      },
      "execution_count": 29,
      "outputs": [
        {
          "output_type": "stream",
          "name": "stdout",
          "text": [
            "Solution:\n",
            "Optimal Schedule Length: 85.0\n",
            "Machine 0: job_0_task_0   job_6_task_0   job_2_task_0   job_5_task_0   job_1_task_0   job_3_task_0   job_4_task_0   \n",
            "           [0,3]          [3,5]          [5,16]         [16,26]        [26,34]        [34,38]        [38,43]        \n",
            "Machine 1: job_0_task_1   job_6_task_1   job_2_task_1   job_5_task_1   job_1_task_1   job_3_task_1   job_4_task_1   \n",
            "           [3,4]          [5,10]         [16,19]        [26,28]        [34,34]        [38,45]        [45,50]        \n",
            "Machine 2: job_0_task_2   job_6_task_2   job_2_task_2   job_5_task_2   job_1_task_2   job_3_task_2   job_4_task_2   \n",
            "           [4,8]          [10,16]        [19,27]        [28,28]        [34,39]        [45,48]        [50,51]        \n",
            "Machine 3: job_0_task_3   job_6_task_3   job_2_task_3   job_5_task_3   job_4_task_3   job_3_task_3   job_1_task_3   \n",
            "           [8,20]         [20,29]        [29,39]        [39,52]        [52,62]        [62,70]        [70,85]        \n",
            "\n"
          ]
        }
      ]
    },
    {
      "cell_type": "markdown",
      "source": [
        "\n",
        "# Google code ends here\n",
        "--------\n",
        "\n"
      ],
      "metadata": {
        "id": "Pk0wRJpqHFyo"
      }
    },
    {
      "cell_type": "markdown",
      "source": [
        "### Defining makespan of a sequence of algorithm"
      ],
      "metadata": {
        "id": "xqmpLyYC2ebw"
      }
    },
    {
      "cell_type": "code",
      "source": [
        "\n",
        "def makespan(sequence,processing_times):\n",
        "\n",
        "    finish_times = [0] * len(processing_times[0])\n",
        "\n",
        "    # Iterate through the jobs in the given sequence and update the finish times for each machine.\n",
        "    for job_index in sequence:\n",
        "        for machine_index in range(len(processing_times[job_index])):\n",
        "            processing_time = processing_times[job_index][machine_index]\n",
        "            # print(machine_index)\n",
        "            if machine_index == 0:\n",
        "                finish_times[machine_index] += processing_time\n",
        "            \n",
        "            else:\n",
        "                finish_times[machine_index] = max(finish_times[machine_index], finish_times[machine_index-1]) + processing_time\n",
        "\n",
        "    # The makespan is the maximum finish time across all machines.\n",
        "    makespan = max(finish_times)\n",
        "\n",
        "    # print(\"Makespan:\", makespan)\n",
        "    return makespan\n",
        "\n",
        "processing_times = [\n",
        "    [3, 1, 4, 12],\n",
        "    [8, 0, 5, 15],\n",
        "    [11, 3, 8, 10],\n",
        "    [4, 7, 3, 8],\n",
        "    [5, 5, 1, 10],\n",
        "    [10, 2, 0, 13],\n",
        "    [2, 5, 6, 9]\n",
        "]\n",
        "\n",
        "sequence = [0, 3, 1, 4, 5, 6, 2]\n",
        "# 1257436\n",
        "\n",
        "makespan(sequence,processing_times)"
      ],
      "metadata": {
        "colab": {
          "base_uri": "https://localhost:8080/"
        },
        "id": "O_PI8zoV2dGb",
        "outputId": "24f44f04-f12d-4b2e-fba5-8f7144bcef73"
      },
      "execution_count": 74,
      "outputs": [
        {
          "output_type": "execute_result",
          "data": {
            "text/plain": [
              "85"
            ]
          },
          "metadata": {},
          "execution_count": 74
        }
      ]
    },
    {
      "cell_type": "markdown",
      "source": [
        "# Genetic Heuristic Approch \n",
        "Here is a more detailed explanation of the code:\n",
        "\n",
        "The algorithm takes as input the number of jobs, the number of machines, the processing times for each job on each machine, the population size, the number of generations, the tournament size for selection, the probability of mutation, and the number of local search iterations.\n",
        "\n",
        "The algorithm initializes the population by creating a list of sequences, where each sequence represents a possible order of jobs to be processed. The sequences are randomly shuffled using the shuffle function from the random module.\n",
        "\n",
        "The algorithm enters the main loop, which repeats for the specified number of generations.\n",
        "\n",
        "In each generation, the fitness of each individual in the population is evaluated using the evaluate_fitness function, which computes the makespan of the corresponding sequence using a simulation of the job shop scheduling problem. The fitness scores are sorted in ascending order, and the best sequence is selected as the first element of the sorted population.\n",
        "\n",
        "The algorithm creates the next generation by selecting pairs of parents using tournament selection with the specified tournament size. Two offspring are created by applying two-point crossover, which randomly selects two points in the parents' sequences and swaps the jobs between the points. Each offspring has a probability of mutation, which swaps two jobs in its sequence. The two offspring are added to the next generation. This process is repeated until the next generation has the same size as the current population.\n",
        "\n",
        "The old population is replaced with the new generation.\n",
        "\n",
        "The algorithm applies a local search to the best individual in the population to improve its fitness. The local search iteratively swaps pairs of jobs in the sequence and selects the best swap that reduces the makespan. This process is repeated for the specified number of local search iterations.\n",
        "\n",
        "The algorithm outputs the best sequence found after the specified number of generations."
      ],
      "metadata": {
        "id": "oWKj9bCEbK12"
      }
    },
    {
      "cell_type": "code",
      "source": [
        "import random\n",
        "\n",
        "def generate_population(pop_size, num_jobs):\n",
        "    \"\"\"Generate a population of candidate solutions.\"\"\"\n",
        "    population = []\n",
        "    for _ in range(pop_size):\n",
        "        sequence = list(range(num_jobs))\n",
        "        random.shuffle(sequence)\n",
        "        population.append(sequence)\n",
        "    return population\n",
        "\n",
        "def evaluate_fitness(sequence,processing_time,machines = True):\n",
        "    \"\"\"Compute the makespan of a given sequence of jobs.\"\"\"\n",
        "    finish_times = [0] * len(processing_times[0])\n",
        "\n",
        "    # Iterate through the jobs in the given sequence and update the finish times for each machine.\n",
        "    for job_index in sequence:\n",
        "        for machine_index in range(len(processing_times[job_index])):\n",
        "            processing_time = processing_times[job_index][machine_index]\n",
        "            # print(machine_index)\n",
        "            if machine_index == 0:\n",
        "                finish_times[machine_index] += processing_time\n",
        "            \n",
        "            else:\n",
        "                finish_times[machine_index] = max(finish_times[machine_index], finish_times[machine_index-1]) + processing_time\n",
        "\n",
        "    # The makespan is the maximum finish time across all machines.\n",
        "    makespan = max(finish_times)\n",
        "\n",
        "    # print(\"Makespan:\", makespan)\n",
        "    return makespan\n",
        "\n",
        "def tournament_selection(population, fitness_scores, tournament_size):\n",
        "    \"\"\"Select a candidate solution using tournament selection.\"\"\"\n",
        "    candidates = random.sample(population, tournament_size)\n",
        "    return max(candidates, key=lambda x: fitness_scores[population.index(x)])\n",
        "\n",
        "def two_point_crossover(parent1, parent2):\n",
        "    \"\"\"Generate offspring using two-point crossover.\"\"\"\n",
        "    num_jobs = len(parent1)\n",
        "    start = random.randint(0, num_jobs-1)\n",
        "    end = random.randint(start+1, num_jobs)\n",
        "    offspring = [-1] * num_jobs\n",
        "    offspring[start:end] = parent1[start:end]\n",
        "    for i in range(num_jobs):\n",
        "        if offspring[i] == -1:\n",
        "            gene = parent2[i]\n",
        "            while gene in offspring:\n",
        "                gene = parent2[parent1.index(gene)]\n",
        "            offspring[i] = gene\n",
        "    return offspring\n",
        "\n",
        "def mutation(sequence, mutation_rate):\n",
        "    \"\"\"Mutate a candidate solution by swapping two jobs.\"\"\"\n",
        "    if random.random() < mutation_rate:\n",
        "        num_jobs = len(sequence)\n",
        "        i = random.randint(0, num_jobs-1)\n",
        "        j = random.randint(0, num_jobs-1)\n",
        "        sequence[i], sequence[j] = sequence[j], sequence[i]\n",
        "\n",
        "def genetic_algorithm(jobs, machines, pop_size=100, num_generations=100, tournament_size=2, mutation_rate=0.1):\n",
        "    \"\"\"Solve the job shop scheduling problem using a genetic algorithm.\"\"\"\n",
        "    num_jobs = len(jobs)\n",
        "    population = generate_population(pop_size, num_jobs)\n",
        "    for generation in range(num_generations):\n",
        "        fitness_scores = [evaluate_fitness(sequence, jobs, machines) for sequence in population]\n",
        "        ranked_population = [x for _, x in sorted(zip(fitness_scores, population))]   #ranking the squences\n",
        "        # print(ranked_population)\n",
        "        best_sequence = ranked_population[0]\n",
        "        next_generation = []\n",
        "        for _ in range(pop_size // 2):\n",
        "            parent1 = tournament_selection(ranked_population, fitness_scores, tournament_size)\n",
        "            parent2 = tournament_selection(ranked_population, fitness_scores, tournament_size)\n",
        "            offspring1 = two_point_crossover(parent1, parent2)\n",
        "            offspring2 = two_point_crossover(parent2, parent1)\n",
        "            mutation(offspring1, mutation_rate)\n",
        "            mutation(offspring2, mutation_rate)\n",
        "            next_generation.extend([offspring1, offspring2])\n",
        "        population = next_generation\n",
        "    return best_sequence\n"
      ],
      "metadata": {
        "id": "XlYBgo-kJwuO"
      },
      "execution_count": 75,
      "outputs": []
    },
    {
      "cell_type": "code",
      "source": [
        "processing_times = [\n",
        "    [3, 1, 4, 12],\n",
        "    [8, 0, 5, 15],\n",
        "    [11, 3, 8, 10],\n",
        "    [4, 7, 3, 8],\n",
        "    [5, 5, 1, 10],\n",
        "    [10, 2, 0, 13],\n",
        "    [2, 5, 6, 9]\n",
        "]\n",
        "print(\"Optimal Sequence:\",genetic_algorithm(processing_times, machines = True))\n",
        "print(\"Makespan:\",makespan(genetic_algorithm(processing_times, machines = True),processing_times))"
      ],
      "metadata": {
        "colab": {
          "base_uri": "https://localhost:8080/"
        },
        "id": "JuY2mkIObxHY",
        "outputId": "26297791-85d8-487f-ccb3-6c587fc04b22"
      },
      "execution_count": 80,
      "outputs": [
        {
          "output_type": "stream",
          "name": "stdout",
          "text": [
            "Optimal Sequence: [0, 1, 5, 2, 6, 4, 3]\n",
            "Makespan: 85\n"
          ]
        }
      ]
    },
    {
      "cell_type": "markdown",
      "source": [
        "# Jhonsons Heuristic Approch\n",
        "\n",
        "Johnson's algorithm is a heuristic algorithm used for scheduling jobs in a job-shop environment where each job consists of a set of operations that need to be processed on different machines. The goal is to determine the order in which the jobs should be processed on the machines so as to minimize the total time required to complete all the jobs, also known as the makespan.\n",
        "\n",
        "The algorithm works by first identifying the machine with the shortest processing time for each job. It then splits the jobs into two groups based on the machines with the shortest processing time: those with the shortest processing time on machine 1 and those with the shortest processing time on machine m.\n",
        "\n",
        "Next, it sorts the first group in increasing order of their processing time on machine 1 and sorts the second group in decreasing order of their processing time on machine m. This ensures that the jobs with the shortest processing time on machines 1 and m are scheduled first and last, respectively.\n",
        "\n",
        "The algorithm then iteratively selects the job with the shortest processing time on either machine 1 or m, schedules it on the corresponding machine, and removes it from the list. This process continues until all jobs have been scheduled.\n",
        "\n",
        "Johnson's algorithm is a heuristic algorithm and does not always guarantee an optimal solution. However, it has been shown to be effective in practice and is often used as a benchmark for evaluating the performance of other scheduling algorithms."
      ],
      "metadata": {
        "id": "NGYjvCB5sv4r"
      }
    },
    {
      "cell_type": "code",
      "source": [
        "def johnsons_algorithm(n, m, processing_times):\n",
        "    # Step 1: find minimum and maximum processing times for each job\n",
        "    min_processing_times = [min(processing_times[i]) for i in range(n)]\n",
        "    # print(min_processing_times)\n",
        "    max_processing_times = [max(processing_times[i]) for i in range(n)]\n",
        "    # print(max_processing_times)\n",
        "\n",
        "    # Step 2: identify job with minimum maximum processing time\n",
        "    min_max_processing_time = float('inf')\n",
        "    for i in range(n):\n",
        "        if max_processing_times[i] < min_max_processing_time:\n",
        "            min_max_processing_time = max_processing_times[i]\n",
        "            min_max_job = i\n",
        "    # print(min_max_job)\n",
        "    # Step 3: schedule job first or last depending on which machine has the minimum maximum processing time\n",
        "    schedule = []\n",
        "    if processing_times[min_max_job][0] < processing_times[min_max_job][1]:\n",
        "        machine_order = [0, 1]\n",
        "    else:\n",
        "        machine_order = [1, 0]\n",
        "\n",
        "    # Step 4: schedule remaining jobs based on their minimum processing time on the first machine and maximum processing time on the second machine\n",
        "    remaining_jobs = set(range(n)) - set([min_max_job])\n",
        "    jobs_to_schedule = sorted(remaining_jobs, key=lambda x: (processing_times[x][machine_order[0]], processing_times[x][machine_order[1]], x))\n",
        "    schedule.append(min_max_job)\n",
        "    schedule.extend(jobs_to_schedule)\n",
        "    return schedule\n"
      ],
      "metadata": {
        "id": "t4t2UORgY3WF"
      },
      "execution_count": 83,
      "outputs": []
    },
    {
      "cell_type": "code",
      "source": [
        "jobs =  [\n",
        "    [3, 1, 4, 12],  #job0 processing time on each machines in machine order 1,2,3,4\n",
        "    [8, 0, 5, 15],  #job1\n",
        "    [11, 3, 8, 10], \n",
        "    [4, 7, 3, 8],\n",
        "    [5, 5, 1, 10],\n",
        "    [10, 2, 0, 13],\n",
        "    [2, 5, 6, 9]\n",
        "]\n",
        "\n",
        "print( \"the optimal sequence from Jhonsons method is:\",johnsons_algorithm(7,4,jobs))\n",
        "print(\"Makespan of this sequence is:\",makespan(johnsons_algorithm(7,4,jobs),jobs))\n",
        "print(\"Makespan for this sequence by Or-Tools is:\", 85)"
      ],
      "metadata": {
        "colab": {
          "base_uri": "https://localhost:8080/"
        },
        "id": "wiLcQpdc1KFc",
        "outputId": "09a8efc8-4c87-4cb2-e6a6-f7b48ddc5c9b"
      },
      "execution_count": 84,
      "outputs": [
        {
          "output_type": "stream",
          "name": "stdout",
          "text": [
            "the optimal sequence from Jhonsons method is: [3, 6, 0, 4, 1, 5, 2]\n",
            "Makespan of this sequence is: 91\n",
            "Makespan for this sequence by Or-Tools is: 85\n"
          ]
        }
      ]
    },
    {
      "cell_type": "code",
      "source": [
        "# job_tuples = []\n",
        "# for job in jobs:\n",
        "#     job_list = []\n",
        "#     for i, time in enumerate(job):\n",
        "#         job_list.append((i, time))\n",
        "#     job_tuples.append(job_list)\n"
      ],
      "metadata": {
        "id": "zJGenZDq1KCm"
      },
      "execution_count": 15,
      "outputs": []
    },
    {
      "cell_type": "code",
      "source": [
        "from google.colab import drive\n",
        "drive.mount('/content/drive')"
      ],
      "metadata": {
        "colab": {
          "base_uri": "https://localhost:8080/"
        },
        "id": "aFz8BjDU9OC-",
        "outputId": "0a303d88-95c9-4c79-adcf-e0c7eacb2745"
      },
      "execution_count": 36,
      "outputs": [
        {
          "output_type": "stream",
          "name": "stderr",
          "text": [
            "/usr/local/lib/python3.10/dist-packages/pexpect/popen_spawn.py:60: DeprecationWarning: setDaemon() is deprecated, set the daemon attribute instead\n",
            "  self._read_thread.setDaemon(True)\n"
          ]
        },
        {
          "output_type": "stream",
          "name": "stdout",
          "text": [
            "Mounted at /content/drive\n"
          ]
        }
      ]
    },
    {
      "cell_type": "code",
      "source": [],
      "metadata": {
        "id": "RBCsNRHlNooA"
      },
      "execution_count": null,
      "outputs": []
    }
  ]
}